import sage.combinat.permutation
from sage.arith.functions import LCM_list
import time
import numpy as np
import ast
import random
import sage.graphs.digraph as digraph
from sage.graphs.digraph import DiGraph
from sage.graphs.independent_sets import IndependentSets
#Basically just implemented the pseudo code from the original paper
#Honestly, this should be a class structure. It's slow but it works
def flip(dig, g, top):
#dig is the directed acyclic graph, it's not dag as dig was more fun to write
    gOrder = Poset(dig).dual()
    lin_ext = gOrder.linear_extension()
    dual_lin_ext = gOrder.dual().linear_extension()
    tempd = []
    tempu = []
#makes the tight orthogonal pair
    for k in top[0]:
        if not gOrder.is_lequal(k,g):
            tempd.append(k)
    for k in top[1]:
        if not gOrder.is_gequal(k,g):
            tempu.append(k)
    if g not in top[0] and g not in top[1]:
        return top
    elif g in top[0]:
        tempu.append(g)
    elif g in top[1]:
        tempd.append(g)
    for k in dual_lin_ext:
        temp_bool = True
        if k not in tempu and not gOrder.is_gequal(k,g):
            if len(tempd) == 0:
                for elt in tempu:
                    if dig.has_edge(k,elt):
                        temp_bool = False
                if temp_bool:
                    if k not in tempd:
                        tempd.append(k)
            else:
                for elt in tempu:
                    if dig.has_edge(k,elt):
                        temp_bool = False
                for elt in tempd:
                    if dig.has_edge(elt,k):
                        temp_bool = False
                    if dig.has_edge(k,elt):
                        temp_bool = False
                if temp_bool:
                    if k not in tempd:
                        tempd.append(k)
#just adds stuff according to the pseudo code, if you haven't looked at Hugh and Nathan's paper at this point please just confer with that.
    for k in lin_ext:
        temp_bool = True
        if k not in tempd and not gOrder.is_lequal(k,g):
            if len(tempu) == 0:
                for elt in tempd:
                    if dig.has_edge(elt,k):
                        temp_bool = False
                if temp_bool:
                    if k not in tempu:
                        tempu.append(k)
            else:
                for elt in tempd:
                    if dig.has_edge(elt,k):
                        temp_bool = False
                for elt in tempu:
                    if dig.has_edge(k,elt):
                        temp_bool = False
                    if dig.has_edge(elt,k):
                        temp_bool = False    
                if temp_bool:
                    if k not in tempu:
                        tempu.append(k)
    tempd.sort()
    tempu.sort()
    return [tuple(tempd),tuple(tempu)]
#Cool now we have the flips so we can make the poset. Technically this makes the directed graph whose edges correspond to the covers.
def independence_poset_of_graph(dig):
    gOrder = Poset(dig).dual()
    lin_ext = gOrder.linear_extension()
    dual_lin_ext = gOrder.dual().linear_extension()
    tops = []
    for independent_set in IndependentSets(dig.to_undirected()):
        independent_set.sort()
        builder = []
        for element in dual_lin_ext:
            temp_bool = True
            if element not in independent_set:
                if len(builder) == 0:
                    for elt in independent_set:
                        if dig.has_edge(element,elt):
                            temp_bool = False
                    if temp_bool:
                        builder.append(element)
                else:
                    for elt in independent_set:
                        if dig.has_edge(element,elt):
                            temp_bool = False
                    for elt in builder:
                        if dig.has_edge(element,elt):
                            temp_bool = False
                        if dig.has_edge(elt,element):
                            temp_bool = False
                    if temp_bool:
                        builder.append(element)
        builder.sort()
        tops.append([tuple(builder), tuple(independent_set)])
    edges = []
    for i in dig.vertices():
        for top in tops:
            if i in top[1]:
                edges.append([tuple(top), tuple(flip(dig, i, top))])
    return DiGraph(edges)
#Basically does the same thing as above but spits out the permutation group.
def flip_group_of_independence_poset(dig):
    gOrder = Poset(dig).dual()
    lin_ext = gOrder.linear_extension()
    dual_lin_ext = gOrder.dual().linear_extension()
    tops = []
    for independent_set in IndependentSets(dig.to_undirected()):
        independent_set.sort()
        builder = []
        for element in dual_lin_ext:
            temp_bool = True
            if element not in independent_set:
                if len(builder) == 0:
                    for elt in independent_set:
                        if dig.has_edge(element,elt):
                            temp_bool = False
                    if temp_bool:
                        builder.append(element)
                else:
                    for elt in independent_set:
                        if dig.has_edge(element,elt):
                            temp_bool = False
                    for elt in builder:
                        if dig.has_edge(element,elt):
                            temp_bool = False
                        if dig.has_edge(elt,element):
                            temp_bool = False
                    if temp_bool:
                        builder.append(element)
        builder.sort()
        tops.append([tuple(builder), tuple(independent_set)])
    edges = []
    for i in dig.vertices():
        for top in tops:
            if i in top[1]:
                edges.append([tuple(top), tuple(flip(dig, i, top)), i])
    grapher = DiGraph(edges)
    testing = {k: v for v,k in enumerate(grapher.vertices(),1)}
    transposition_edges = [tuple([testing[e[0]],testing[e[1]],e[2]]) for e in grapher.edges()]
    gens = []
    for i in dig.vertices():
        gen = []
        for edge in transposition_edges:
            if edge[2] == i:
                gen.append((edge[0],edge[1]))
        gens.append(Permutation(gen).cycle_string())
    mygroup = PermutationGroup(gens)
    return mygroup.structure_description()
#Just checks all the directed acyclic graphs, but way overcounts because it was easier to implement. Don't run for n > 5
def check_dags_on_n_vertices(n):
    es = set()
    for i in range(0,n):
        for j in range(i+1,n):
            es.add(tuple([i,j]))
    temps = Subsets(es).list()
    #it is eat_fresh because it takes in, or eats, subsets, or subs, and the coder found the reference to Subway too comical to not include. 
    eat_fresh = []
    for i in temps:
        j = i.set()
        holder = []
        while len(j) > 0:
            holder.append(j.pop())
        eat_fresh.append(holder)
    connected_dags = []
    #commiting to the bit
    for footlong in eat_fresh:
        temp = DiGraph(footlong)
        if temp.is_connected() and temp.is_directed_acyclic() and len(temp.vertices()) == n:
            connected_dags.append(temp)
    #print(len(connected_dags))
    groups = set()
    for dag in connected_dags:
        groups.add(flip_group_of_independence_poset(dag))
    return groups
#Prints out the set of structure description of the coloring groups for independence posets based on the size of the graph for DAG's of size 1-4, i.e. the base cases.
for i in range(1,5):
    print(check_dags_on_n_vertices(i))
