{
 "cells": [
  {
   "cell_type": "code",
   "execution_count": 1,
   "metadata": {},
   "outputs": [],
   "source": [
    "from sage.graphs.trees import TreeIterator;\n",
    "from coloring_groups import EdgeColorings;\n",
    "from coloring_groups import EdgeColoring;\n",
    "\n",
    "totals = oeis.find_by_id(\"A000055\");\n",
    "\n",
    "def test_trees (n):\n",
    "    print(\"Testing trees of order\", n, \"(total \", totals[n] , \")\");\n",
    "    found = [];\n",
    "    total = totals[n];\n",
    "    \n",
    "    i = 0;\n",
    "    ii = 0;\n",
    "    j = 0;\n",
    "    percentage = 0;\n",
    "    for T in TreeIterator(n):\n",
    "        for kappa in EdgeColorings(T):\n",
    "            j = j + 1;\n",
    "            if not kappa.has_symmetric_edge():\n",
    "                G = kappa.group();\n",
    "                if G.order() < factorial(n)/2 and (G.order() != 2 * n or not G.is_isomorphic(DihedralGroup(n))):\n",
    "                    desc = G.structure_description();\n",
    "                    if not any(G.is_isomorphic(H) for H in found):\n",
    "                        print(desc, \"(\", G.order() , \")\", G.is_primitive(),  \":\");\n",
    "                        show(kappa.plot())\n",
    "                        found.append(G)\n",
    "                    ii = ii + 1;\n",
    "        i = i + 1;\n",
    "        if percentage + 5 < i / total * 100:\n",
    "            percentage = percentage + 5;\n",
    "            print(\"[\" + str(int(percentage)) + \"%]\")\n",
    "    \n",
    "    print(\"[100%]\")\n",
    "    print(\"Thanks to the symmetric edge condition, we only needed to test\", ii, \"/\", j, \"colorings\")"
   ]
  },
  {
   "cell_type": "code",
   "execution_count": 2,
   "metadata": {},
   "outputs": [
    {
     "name": "stdout",
     "output_type": "stream",
     "text": [
      "Testing trees of order 9 (total  47 )\n",
      "[5%]\n",
      "[10%]\n",
      "(C3 x C3 x C3) : S4 ( 648 ) False :\n"
     ]
    },
    {
     "data": {
      "image/png": "[encoded data removed]",
      "text/plain": [
       "Graphics object consisting of 18 graphics primitives"
      ]
     },
     "metadata": {},
     "output_type": "display_data"
    },
    {
     "name": "stdout",
     "output_type": "stream",
     "text": [
      "[15%]\n",
      "[20%]\n",
      "[25%]\n",
      "[30%]\n",
      "[35%]\n",
      "[40%]\n",
      "[45%]\n",
      "[50%]\n",
      "[55%]\n",
      "[60%]\n",
      "[65%]\n",
      "[70%]\n",
      "[75%]\n",
      "[80%]\n",
      "[85%]\n",
      "[90%]\n",
      "[95%]\n",
      "[100%]\n",
      "Thanks to the symmetric edge condition, we only needed to test 2 / 9857 colorings\n",
      "2.958852767944336\n"
     ]
    }
   ],
   "source": [
    "from time import time;\n",
    "start = time();\n",
    "test_trees(9)\n",
    "print(time() - start)"
   ]
  }
 ],
 "metadata": {
  "kernelspec": {
   "display_name": "SageMath 9.0",
   "language": "sage",
   "name": "sagemath"
  },
  "language_info": {
   "codemirror_mode": {
    "name": "ipython",
    "version": 3
   },
   "file_extension": ".py",
   "mimetype": "text/x-python",
   "name": "python",
   "nbconvert_exporter": "python",
   "pygments_lexer": "ipython3",
   "version": "3.8.10"
  }
 },
 "nbformat": 4,
 "nbformat_minor": 4
}
